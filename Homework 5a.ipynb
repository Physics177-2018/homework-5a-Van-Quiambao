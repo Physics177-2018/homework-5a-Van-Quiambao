{
 "cells": [
  {
   "cell_type": "markdown",
   "metadata": {},
   "source": [
    "# Homework 5a: Airy Disks\n",
    "Physics 177, Spring 2018  \n",
    "**Due:** Thursday, May 3\n",
    "\n",
    "*Van Quiambao*"
   ]
  },
  {
   "cell_type": "markdown",
   "metadata": {},
   "source": [
    "This short homework is an exploration of the diffraction limit of a telescope. It is based on **Problem 2** of **Homework 3b** and follows\n",
    " Exercise 5.4 from *Computational Physics* by Newman.\n",
    "\n",
    "\n",
    "\n",
    "**Reading**: On Thursday we will be discussing the *Leap Frog* algorithm for solving differential equations. Please read the relevant chapters whichever textbook you choose to use."
   ]
  },
  {
   "cell_type": "markdown",
   "metadata": {},
   "source": [
    "### Discussion\n",
    "Our ability to resolve detail in astronomical observations is limited by the diffaction of light in our telescopes.  Light from stars can be treated effectively as coming from an infinitely far away point source. When this light, with wavelength $\\lambda$, passes through the circular aperture of a telescope (which we'll assume to have unit radius) and is focused by the telescope in the focal plane, it produces not a single dot, but a circular diffraction patter consisting of a central spot surrounded by a series of concentric rings. The intensity of the light in this diffraction pattern is given by\n",
    "\n",
    "$$\\displaystyle I(r) = \\left(\\frac{J_1(kr)}{kr}\\right)^2 \\ ,$$\n",
    "\n",
    "where $r$ is the distance in the focal plane from the center of the diffraction pattern, $k = 2\\pi/\\lambda$ and $J_1(x)$ is a Bessel function. The Bessel functions $J_m(x)$ are given by\n",
    "\n",
    "$\\displaystyle J_m(x) = \\frac{1}{\\pi}\\int_0^\\pi \\cos(m\\theta - x \\sin \\theta) \\, d\\theta\\ ,$ \n",
    "\n",
    "where $m$ is a nonnegative integer and $x\\geq 0$. You should already have this coded up from Homework 3b."
   ]
  },
  {
   "cell_type": "markdown",
   "metadata": {},
   "source": [
    "### Plotting Diffraction Patterns\n",
    "\n",
    "Use the equation for $I(r)$ above to plot the diffraction pattern seen, for example, by a telescope when viewing a point source at the origin. Your plot should look like an **Airy disk**:\n",
    "\n",
    "![title](https://upload.wikimedia.org/wikipedia/commons/1/14/Airy-pattern.svg)\n",
    "\n",
    "Image (and discussion) from:\n",
    "https://en.wikipedia.org/wiki/Airy_disk\n",
    "\n",
    "For our purposes, use $\\lambda = 500~\\text{nm}$. We are curious values of $r$ from zero up to $1~\\mu\\text{m}$. Be careful with units! (How many micrometers are there in a nanometer?) Numerical functions don't know how to handle units, so you should make sure you're consistent everywhere. "
   ]
  },
  {
   "cell_type": "markdown",
   "metadata": {},
   "source": [
    "## 1. Intensity function\n",
    "\n",
    "Write a function `I(r)` that gives the intensity of the diffraction pattern for $\\lambda = 500 \\text{ nm}$. \n",
    "\n",
    "You should copy and paste your functions `integrate_HW3`and `J` from Homework 3b."
   ]
  },
  {
   "cell_type": "code",
   "execution_count": 1,
   "metadata": {},
   "outputs": [],
   "source": [
    "# COPY AND PASTE integrate_HW3 and J(m,x)\n",
    "from math import pi as pi\n",
    "from math import sin as sin\n",
    "from math import cos as cos\n",
    "\n",
    "def integrate_HW3(function_name, lower_limit, upper_limit, Nsteps):\n",
    "    \"\"\"\n",
    "    Returns the integral using Simpson's rule\n",
    "    \"\"\"\n",
    "    delta_x = (upper_limit - lower_limit)/Nsteps\n",
    "    k = 0.0\n",
    "    x = lower_limit + delta_x\n",
    "    v = Nsteps/2 + 1\n",
    "    q = Nsteps/2\n",
    "    \n",
    "    for i in range (1, int(v)):\n",
    "        k += 4*function_name(x)\n",
    "        x += 2*delta_x\n",
    "    \n",
    "    x = lower_limit + 2*delta_x\n",
    "    for i in range (1, int(q)):\n",
    "        k += 2*function_name(x)\n",
    "        x += 2*delta_x\n",
    "    \n",
    "    return ((delta_x)/3)*(function_name(lower_limit) + function_name(upper_limit) + k)\n",
    "\n",
    "def J(m,x):\n",
    "    \"\"\"\n",
    "    mth Bessel function of the first kind evaluated at real number x,  \n",
    "    calculated using an integral representation with Simpson's rule and 1000 steps\n",
    "    \"\"\"\n",
    "    \n",
    "    # Your code goes here!\n",
    "    # Use the integrate_HW2 function from Problem 1\n",
    "    \n",
    "    # It may be useful to define a local function for the integrand\n",
    "    def integrand(theta):\n",
    "        return cos(m*(theta) - x*sin(theta)) # FIX THIS LINE\n",
    "    \n",
    "    return (1/pi)*integrate_HW3(integrand, 0, pi, 1000) # change this!\n",
    "# Don't forget to import packages as needed"
   ]
  },
  {
   "cell_type": "code",
   "execution_count": 11,
   "metadata": {},
   "outputs": [],
   "source": [
    "from math import pi\n",
    "def I(r):\n",
    "    lamda = 0.5\n",
    "    k = 2*pi / 0.5\n",
    "    kr = 2*pi / 0.5 *r# FILL THIS IN\n",
    "    return (J(1, kr)/kr)**2# FILL THIS IN"
   ]
  },
  {
   "cell_type": "code",
   "execution_count": 12,
   "metadata": {},
   "outputs": [
    {
     "name": "stdout",
     "output_type": "stream",
     "text": [
      "0.0011425569163811453\n"
     ]
    }
   ],
   "source": [
    "# TEST YOUR FUNCTION\n",
    "# This should be 0.0011426\n",
    "print(I(.5))"
   ]
  },
  {
   "cell_type": "markdown",
   "metadata": {},
   "source": [
    "## 2. 1D Intensity Plot \n",
    "\n",
    "Plot `I(r)` from $r = 0.3\\, \\mu\\text{m}$ to $r = 1\\,\\mu\\text{m}$. Use the numpy to vectorize `I(r)`. "
   ]
  },
  {
   "cell_type": "code",
   "execution_count": 13,
   "metadata": {},
   "outputs": [],
   "source": [
    "import numpy as np\n",
    "import matplotlib.pyplot as plt"
   ]
  },
  {
   "cell_type": "code",
   "execution_count": 26,
   "metadata": {},
   "outputs": [
    {
     "data": {
      "image/png": "[encoded data removed]",
      "text/plain": [
       "<Figure size 432x288 with 1 Axes>"
      ]
     },
     "metadata": {},
     "output_type": "display_data"
    }
   ],
   "source": [
    "# FILL THIS IN, MAKE A PLOT of I(r)\n",
    "%matplotlib inline\n",
    "import numpy as np\n",
    "import matplotlib.pyplot as plt\n",
    "from numpy import arange\n",
    "\n",
    "vect_I = np.vectorize(I)\n",
    "r = np.linspace(0.3, 1, 100)\n",
    "I1 = vect_I(r)\n",
    "\n",
    "plt.plot(r, I1)\n",
    "plt.title(\"1D Intensity Plot\")\n",
    "plt.xlabel(\"Intensity\")\n",
    "plt.ylabel(\"r (distance in the focal plane)\")\n",
    "plt.show()"
   ]
  },
  {
   "cell_type": "markdown",
   "metadata": {},
   "source": [
    "## X. Extra Credit: 2D plot\n",
    "\n",
    "Use `meshgrid` and `pcolormesh` from `numpy` to reproduce the Airy disk image at the top of this document. Plot $I(r)$ over $(x,y) \\in (-1\\,\\mu\\text{m},1\\,\\mu\\text{m})$.\n",
    "\n",
    "**Hint**: the plot is a little tricky because the $r\\approx 0$ region is so bright. You can solve this by using the `vmax` option in `pcolormesh`. Here's a part of my code that seemed to work:\n",
    "\n",
    "```python\n",
    "II = Ivector(np.sqrt(X**2 + Y**2))\n",
    "plt.pcolormesh(X,Y,II, vmax=0.001)\n",
    "\n",
    "```\n",
    "\n",
    "I used `linspace` from `numpy` to sample $x,y \\in (-1,1)$ over 50 steps. Then I used `meshgrid` to write `X` and `Y` arrays. Note that `X` and `Y` will be $50\\times 50$ arrays. The function `Ivector` is my vectorized version of $I(r)$ using `vectorize`."
   ]
  },
  {
   "cell_type": "code",
   "execution_count": 8,
   "metadata": {},
   "outputs": [],
   "source": [
    "# FILL THIS IN, MAKE A PLOT!"
   ]
  }
 ],
 "metadata": {
  "kernelspec": {
   "display_name": "Python 3",
   "language": "python",
   "name": "python3"
  },
  "language_info": {
   "codemirror_mode": {
    "name": "ipython",
    "version": 3
   },
   "file_extension": ".py",
   "mimetype": "text/x-python",
   "name": "python",
   "nbconvert_exporter": "python",
   "pygments_lexer": "ipython3",
   "version": "3.6.4"
  }
 },
 "nbformat": 4,
 "nbformat_minor": 2
}
